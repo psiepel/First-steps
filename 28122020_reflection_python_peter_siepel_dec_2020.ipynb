{
  "nbformat": 4,
  "nbformat_minor": 0,
  "metadata": {
    "kernelspec": {
      "display_name": "Python 3",
      "language": "python",
      "name": "python3"
    },
    "language_info": {
      "codemirror_mode": {
        "name": "ipython",
        "version": 3
      },
      "file_extension": ".py",
      "mimetype": "text/x-python",
      "name": "python",
      "nbconvert_exporter": "python",
      "pygments_lexer": "ipython3",
      "version": "3.8.5"
    },
    "colab": {
      "name": "28122020_reflection_python_peter_siepel_dec 2020.ipynb",
      "provenance": [],
      "collapsed_sections": [],
      "include_colab_link": true
    }
  },
  "cells": [
    {
      "cell_type": "markdown",
      "metadata": {
        "id": "view-in-github",
        "colab_type": "text"
      },
      "source": [
        "<a href=\"https://colab.research.google.com/github/psiepel/First-steps/blob/main/28122020_reflection_python_peter_siepel_dec_2020.ipynb\" target=\"_parent\"><img src=\"https://colab.research.google.com/assets/colab-badge.svg\" alt=\"Open In Colab\"/></a>"
      ]
    },
    {
      "cell_type": "markdown",
      "metadata": {
        "id": "w2QIZimYCmBr"
      },
      "source": [
        "# Programming Exercises\n",
        "\n",
        "JADS, December 2020 / January 2021, participant copy, not for redistribution/publication\n",
        "\n",
        "## Introduction\n",
        "\n",
        "This notebook will provide programming exercises of varying difficulty.\n",
        "\n",
        "Programming **exercises** will help in:\n",
        "\n",
        " 1. self-reflection on programming skill and ability\n",
        " 2. to gain and improve programming skills\n",
        "\n",
        "It is assumed that participants have programming skills already **and/or** obtain those skills through [Think Python by Allen Downey (2nd edition for Python 3)](http://greenteapress.com/thinkpython2/thinkpython2.pdf), possibly supported by *Real Python*, or any other sources of their own choosing.\n",
        "\n",
        " * This notebook is not a replacement for the book, and the time and effort necessary to learn programming. Depending on your style and preferences, and your background, you may find the *Real Python* website a valuable addition to the book. I have taught hunderds of aspiring programmers successfully with help of the book.\n",
        "\n",
        " * Note that the exercises are about *programming*, not necessarily constrained to data science alone. Like learning how to \"run\" can greatly improve your ability to play sports like soccer (and is a necessary skill for it), not all running is on a soccer field. In the same way, we may need programming for data science, but programming is not confined to data science. If you aren't already very skilled in programming, and you are eager to get to data analysis results very quickly, some patience and up-front (time) investment is politely asked for. You can evaluate your (Python) programming skills with this document.\n",
        "\n",
        "The book *Think Python* as mentioned above is highly recommended: it is concise and written by a computer science professor. It contains both theory and exercises, and generally follows a logical order. Experienced programmers (who may already know how to program in C, Java, a Microsoft 'Sharp' language,TypeScript, or any other programming language) can typically proceed very quickly through the book, in that case you may skim certain chapters and pick up what you did not know already. If you only know R and/or Matlab (or, for instance SPSS Syntax or the SAS language), you may learn a more general purpose-programming language fairly quickly from the book.\n",
        "\n",
        "As for the exercises:\n",
        " * For experienced (Python) programmers, you can probably do the exercises easily (not a lot of work).\n",
        " * For less experienced (Python) programmers: you may learn a lot, although you may need to study the book and/or other sources to get the necessary foundation/basics(*).\n",
        "\n",
        "(*) Getting a a first solid programming foundation usually takes 6 months (1 day per week).\n",
        "\n",
        "Note for experienced programmers only:\n",
        "\n",
        "* If you are used to Java (or another statically typed programming language that heavilty relies on class definitions), please pay special attention to a different *style* of programming that Python may require. In particular, you typically don't write classes very often in a data science notebook, and the same applies for getters and setters: in Python those are not typically called for, and the notebook environment is not like *Eclipse* or *IntelliJ*, and it does not typically generate code. You may want to *unlearn* certain programming habits for Python, and/or get used to the fact that Python/notebooks may require more flexilibity. Especially if you feel uncomfortable in using a dynamically typed language. If you also write Javascript, Ruby, or bash/shell scripts, you may know what I mean. *After making your own attempt at the exercises*, you may want to check if your answers to exercises are not unnecessarily  verbose compared to other exercise solutions (a metric such as \"Lines-of-Code\" may be useful for this). Verbose code may be indicative of a style of programming not optimally fit for the notebook/Python combination.\n"
      ]
    },
    {
      "cell_type": "markdown",
      "metadata": {
        "id": "CN7z2ybdCmBx"
      },
      "source": [
        "## General instructions"
      ]
    },
    {
      "cell_type": "markdown",
      "metadata": {
        "id": "xSQOaXYACmBy"
      },
      "source": [
        " * For a fair self-assessment, do not **google** for solutions.\n",
        " * Do not use outside help.\n",
        " * Use the built-in help (of available) and/or a standard book if you need to.\n",
        " \n",
        "If you do need help: using the book is best for learning. Asking someone else, or getting a solution from the Internet, may not improve your skills a lot. Unless you are completely stuck of course. Like swimming or learning to ride a bicycle, you have to learn how to do it yourself (practice). If you are completely new to programming, doing an exercise may be more like writing a good poem than answering a multiple choice question: it is not typically something that you can do in 5 minutes, at least not as a beginner.\n",
        "\n",
        "*Study hints*\n",
        "\n",
        "Sometimes, hint to sections/chapters of the book are given. However, beginners may need to study *Think Python* from the beginning of the book. Although the book is accessible, you may still find it hard to grasp a chapter without first studying any preceding chapters. Do study the exercises as well: the time investment pays back with dividend if you are serious in becoming a (better) programmer.\n",
        "\n",
        "When you study chapter 3, I recommend to peak ahead to sections 6.1-6.4, especially section 6.1. You may want to start writing *fruitful functions* from the start (that is: use *return* values in your functions). In chapter 3, pay special interest to section 3.10 and at that point, read section 6.1 as well: you may go back and forth between chapter 3 and chapter 6: 6.1-6.4.\n"
      ]
    },
    {
      "cell_type": "markdown",
      "metadata": {
        "id": "KCFKqSyPCmBy"
      },
      "source": [
        "## The exercises: a sample ##\n",
        "\n",
        "This sample is given to provide some familiarity with the 'question' and 'answer' model of the exercises."
      ]
    },
    {
      "cell_type": "markdown",
      "metadata": {
        "id": "8Bq-0jMKCmBz"
      },
      "source": [
        "*Question*: Write an *expression* that returns the square of the variable `abc`\n",
        "    \n",
        "*Answer(s)*: \n",
        "\n",
        "`abc ** 2`\n",
        "\n",
        "or alternatively:\n",
        "\n",
        "`abc * abc`\n",
        "\n",
        "Note: refer to Think Python section 2.3 if you are not familiar with the word *expression*."
      ]
    },
    {
      "cell_type": "markdown",
      "metadata": {
        "id": "Bkjigm7_CmBz"
      },
      "source": [
        "## Beginner"
      ]
    },
    {
      "cell_type": "markdown",
      "metadata": {
        "id": "e-jj5rDbCmBz"
      },
      "source": [
        "### Literal expressions (that is: expressions without variables, etc...)"
      ]
    },
    {
      "cell_type": "markdown",
      "metadata": {
        "id": "81R3wsY6CmBz"
      },
      "source": [
        "*Fairly easy*"
      ]
    },
    {
      "cell_type": "markdown",
      "metadata": {
        "id": "WhLs-voKCmB0"
      },
      "source": [
        "1) Write an *expression* to calculate the area of a circle that has a diameter of 7.\n",
        "\n",
        " * Mathematical formula: $\\pi \\times r^{2}$ where $r$ is the radius (which is equal to the diameter divided by two).\n",
        " * The result should be approximately: *38.48451*\n",
        "\n",
        "Note: if the term **expression** is new to you, please study section 2.3 of the Think Python book (2nd edition). As an example: the expression to add 21% VAT (\"BTW\" in Dutch) to a purchase of 67 euros is: `67 * (1 + 0.21)` or `67 + 0.21 * 67`\n"
      ]
    },
    {
      "cell_type": "markdown",
      "metadata": {
        "id": "_DSwKESaCmB0"
      },
      "source": [
        "*Feel free to test your expression in a notebook*"
      ]
    },
    {
      "cell_type": "code",
      "metadata": {
        "colab": {
          "base_uri": "https://localhost:8080/"
        },
        "id": "CipkSaRRC7DI",
        "outputId": "677de933-5c35-450d-85a2-923f868c5ffc"
      },
      "source": [
        "pi = 3.14159\n",
        "diameter = 7\n",
        "area = pi * (diameter / 2) ** 2\n",
        "print(area)\n",
        "\n"
      ],
      "execution_count": null,
      "outputs": [
        {
          "output_type": "stream",
          "text": [
            "38.4844775\n"
          ],
          "name": "stdout"
        }
      ]
    },
    {
      "cell_type": "markdown",
      "metadata": {
        "id": "KsOm9RI4Aaoy"
      },
      "source": [
        "REFLECTION\n",
        "\n",
        "Indeed fairly easy. No worries at this exercise."
      ]
    },
    {
      "cell_type": "markdown",
      "metadata": {
        "id": "xCyTl8ufCmB0"
      },
      "source": [
        "2) Write an expression that evaluates to a string of 6789 exclamation marks.\n",
        "\n",
        " * Do not hardcode all the 6789 exclamation marks.\n",
        " * Refrain from using statements like loops, just an *expression* should be sufficient.\n",
        "\n",
        "Slightly more advanced question:\n",
        " * *How can you easily have the computer test if your result is correct?*"
      ]
    },
    {
      "cell_type": "code",
      "metadata": {
        "colab": {
          "base_uri": "https://localhost:8080/"
        },
        "id": "Sd19N4StGgZj",
        "outputId": "dcbe801c-4987-40d2-8425-c7d483ccc6b2"
      },
      "source": [
        "phrase = \"WTF!!!!!!What is going on!!!!\"\n",
        "print (phrase.count(\"!\"))\n",
        "i = 0\n",
        "max = 6789\n",
        "for character in phrase:\n",
        "    if character == \"!\" and i != max:\n",
        "        i += 1 \n",
        "print (i)\n"
      ],
      "execution_count": null,
      "outputs": [
        {
          "output_type": "stream",
          "text": [
            "10\n",
            "10\n"
          ],
          "name": "stdout"
        }
      ]
    },
    {
      "cell_type": "markdown",
      "metadata": {
        "id": "GplFjIxfJwds"
      },
      "source": [
        "REFLECTION\n",
        "\n",
        "First started with the phrase.count(\"!\"). Then realized there is a max number of exclamation marks to evaluate. Added the for loop to evaluate the string and maximize the evaluation.\n",
        "\n",
        "Expression can be validated to play around with max variable."
      ]
    },
    {
      "cell_type": "markdown",
      "metadata": {
        "id": "lmQwiB9rCmB1"
      },
      "source": [
        "### Expressions with variables"
      ]
    },
    {
      "cell_type": "markdown",
      "metadata": {
        "id": "w6h4DAN5CmB1"
      },
      "source": [
        "*Beginner / not too hard*\n",
        "\n",
        "3) We want to know if the number in the variable `count` is an **odd** number (that is: not divisible by 2). Write an (elegant) expression that evaluates to a truth-value (a *boolean*) that represents whether the variable `count` holds an `odd` (that is: 'uneven') number.\n",
        "\n",
        " * So if `count` holds the value `59`, your expression should evaluate to `False` and if `count` holds the value `788`, your expression should evaluate to `True`. Can you do it in a concise, efficient way?\n",
        " * Your expression should contain `count` (more formally, we would say \"The expression holds a reference to `count`\").\n",
        " \n",
        "If you don't yet know what a *boolean* value is, please study section 5.2 of the book.\n",
        "\n",
        "First try this exercise without a hint. If you do need a hint, please study section 5.1 of the book and think again about the exercise."
      ]
    },
    {
      "cell_type": "code",
      "metadata": {
        "colab": {
          "base_uri": "https://localhost:8080/"
        },
        "id": "xAz8ZNGSh5Uk",
        "outputId": "28e046ae-50d2-4e55-baa5-2ef16e468c71"
      },
      "source": [
        "count = 788\n",
        "if(count % 2) == 0:\n",
        "    print(\"even\")\n",
        "else:\n",
        "    print(\"odd\")   "
      ],
      "execution_count": null,
      "outputs": [
        {
          "output_type": "stream",
          "text": [
            "even\n"
          ],
          "name": "stdout"
        }
      ]
    },
    {
      "cell_type": "markdown",
      "metadata": {
        "id": "vSN2hFFbQ0OV"
      },
      "source": [
        "REFLECTION\n",
        "\n",
        "No worries at his exercise."
      ]
    },
    {
      "cell_type": "markdown",
      "metadata": {
        "id": "kdQgk6KTCmB1"
      },
      "source": [
        "\n",
        "4) Write an expression that returns the middle character of a string stored in (variable) `sample_text`. Assume that the string has an odd (uneven) number of characters.\n",
        "\n",
        " * So if `sample_text` contains the text `\"Major\"`, your expression should evaluate to `\"j\"`.\n",
        " \n",
        "If you need a hint:\n",
        " * study section 8.1 of the book.\n",
        " * study section 8.2 of the book.\n",
        " * think how you can combine 8.1 and 8.2 in a clever solution"
      ]
    },
    {
      "cell_type": "code",
      "metadata": {
        "colab": {
          "base_uri": "https://localhost:8080/"
        },
        "id": "_opLziKqWU4q",
        "outputId": "3b39dddf-f3df-4597-bb59-491b41298260"
      },
      "source": [
        "#simple version\n",
        "sample_text = \"Major\"\n",
        "middle_char = sample_text[(len(sample_text)-1)//2]\n",
        "print(middle_char)"
      ],
      "execution_count": null,
      "outputs": [
        {
          "output_type": "stream",
          "text": [
            "j\n"
          ],
          "name": "stdout"
        }
      ]
    },
    {
      "cell_type": "code",
      "metadata": {
        "colab": {
          "base_uri": "https://localhost:8080/"
        },
        "id": "JmBoIO0ouUGR",
        "outputId": "faa61bda-e852-4b5e-aa31-6d330bcac61c"
      },
      "source": [
        "#different approach using a function and make robust in case of even number of characters\n",
        "def middle_char(sample_txt):\n",
        "   return sample_txt[(len(sample_txt)-1)//2:(len(sample_txt)+2)//2]\n",
        "\n",
        "print(middle_char(\"Majjor\"))"
      ],
      "execution_count": null,
      "outputs": [
        {
          "output_type": "stream",
          "text": [
            "jj\n"
          ],
          "name": "stdout"
        }
      ]
    },
    {
      "cell_type": "markdown",
      "metadata": {
        "id": "VUxuCWQvX8H_"
      },
      "source": [
        "REFLECTION\n",
        "\n",
        "Took me a while to discover the effect of floor division. Basically an integer division is what I discovered.\n",
        "Reflecting the simple version I found the function (2nd approach) more elegant and robust to validate the expression."
      ]
    },
    {
      "cell_type": "markdown",
      "metadata": {
        "id": "xF1Za90fCmB1"
      },
      "source": [
        "### Evaluate expressions\n",
        "\n"
      ]
    },
    {
      "cell_type": "markdown",
      "metadata": {
        "id": "kxPR9ej-CmB1"
      },
      "source": [
        "5) Without using Python (manually) evaluate the following expressions:"
      ]
    },
    {
      "cell_type": "markdown",
      "metadata": {
        "id": "66PU24zzCmB2"
      },
      "source": [
        " * `\"amsterdam\"[::2]`\n",
        " * `len(\"Goose\")`\n",
        " * `min([4, 8, 4, 9, 4])`\n",
        " \n",
        "Write down the results as a literal value (think of a literal as a hardcode value, like `56.3`, or `\"mouse\"`, or `[1,3]`)."
      ]
    },
    {
      "cell_type": "markdown",
      "metadata": {
        "id": "oD-ijzIVbkZX"
      },
      "source": [
        "REFLECTION\n",
        "\n",
        "\"amsterdam\"[::2]\n",
        "\n",
        "Of all characters take 0, 2, 4, ... characters. In essence even characters, starting at position 0\n",
        "\n",
        "Discovered that \"amsterdam\"[::-1] will reverse the string. \n",
        "\n",
        "len(\"Goose\")\n",
        "\n",
        "Lenght of a string. That is 5.\n",
        "\n",
        "\n",
        "min([4, 8, 4, 9, 4])\n",
        "\n",
        "Minimum value of the list. Tried it with max() as well and get a TypeError. Don't know why.\n",
        "\n",
        "\n"
      ]
    },
    {
      "cell_type": "markdown",
      "metadata": {
        "id": "dxs7v3dDCmB2"
      },
      "source": [
        "### Data types\n",
        "\n",
        "*Slightly harder, may require basic programming ability at a higher education level*"
      ]
    },
    {
      "cell_type": "markdown",
      "metadata": {
        "id": "8xSEpnfaCmB2"
      },
      "source": [
        "6) Give the following two pieces of code, explain why A will result in an error and B will happily execute:\n",
        "    \n",
        "A)\n",
        "```\n",
        "sample_A = (1, 7, 13, 19)\n",
        "sample_A[2] = 23\n",
        "```\n",
        "\n",
        "B)\n",
        "```\n",
        "sample_B = [1, 7, 13, 19]\n",
        "sample_B[2] = 23\n",
        "```\n",
        "\n",
        " * Can you write down the difference (without refering to a book, google, someone else, or any other help)?\n",
        " * Do you know the programming terminology for this?\n",
        " * If you could not, check the sources, and try to formulate in your own words (write down your words).\n",
        " \n",
        " \n",
        " * A beginning programmer might prefer B to A, because the 'list' seems more powerful, it doesn't restrain you like seat belts in a car do. Can you explain and clearly formulate why an experiences programmer may prefer A instead?\n",
        "**Write down** the answer in words, formulating ideas in writing requires you to think it through more deeply.\n",
        "\n",
        "*Do not worry if you do not yet have the experience to answer this: this question typically requires more ability than you can develop in less than 6 months.*\n"
      ]
    },
    {
      "cell_type": "markdown",
      "metadata": {
        "id": "Wr3d3jsbgQAM"
      },
      "source": [
        "REFLECTION\n",
        "\n",
        "A) is trying to change a tuple, which is unmutable. This raises a TypeError. B) is trying to change a list which is mutable. So, that's ok.\n",
        "An experienced programmer would with a tuple because the code is more safe. As a second argument, tuples are faster as well."
      ]
    },
    {
      "cell_type": "markdown",
      "metadata": {
        "id": "DOlh0buyCmB2"
      },
      "source": [
        "### Functions\n",
        "\n",
        "*Easy*\n",
        "\n",
        "7) Write a `function with_VAT()` that adds 21% Value Added Tax (VAT) to any amount that you pass in, and returns the amount including TAX."
      ]
    },
    {
      "cell_type": "markdown",
      "metadata": {
        "id": "i2kCFEscCmB3"
      },
      "source": [
        " * If you invoke the function with `amount_with_VAT(200.0)`, the function should return `242.0`.\n",
        " * Your function should take/accept one argument, and return a single (scalar) value. (Don't worry if the term scalar is unfamiliar yet, just have your function return 'one' value)."
      ]
    },
    {
      "cell_type": "markdown",
      "metadata": {
        "id": "etU4R2TLCmB3"
      },
      "source": [
        "In the book: chapter 3 and sections 6.1 through 6.4. If you learn how to write functions and successfully define and return arguments, you made a big step towards programming."
      ]
    },
    {
      "cell_type": "code",
      "metadata": {
        "colab": {
          "base_uri": "https://localhost:8080/"
        },
        "id": "--MS_2C_00tI",
        "outputId": "7fd0481f-7dc6-4ac2-c9f3-330757787f31"
      },
      "source": [
        "def amount_with_VAT(amount):\n",
        "    amount += (amount * 0.21)\n",
        "    return amount\n",
        "\n",
        "print(amount_with_VAT(200))\n",
        "\n",
        "\n"
      ],
      "execution_count": null,
      "outputs": [
        {
          "output_type": "stream",
          "text": [
            "242.0\n"
          ],
          "name": "stdout"
        }
      ]
    },
    {
      "cell_type": "markdown",
      "metadata": {
        "id": "QJ67EmFo-0tt"
      },
      "source": [
        "REFLECTION\n",
        "\n",
        "Fairly easy, after experimenting with functions at exercise 4. Felt to good to be true. "
      ]
    },
    {
      "cell_type": "markdown",
      "metadata": {
        "id": "lRm3fg69CmB4"
      },
      "source": [
        "8) Write a function that prints a box of an arbitrary size.\n",
        "\n",
        "*Slightly More advanced*\n",
        "\n",
        "\n",
        "For instance for size 4:\n",
        "    \n",
        "```\n",
        "+----+\n",
        "|    |\n",
        "|    |\n",
        "|    |\n",
        "+----+\n",
        "```\n",
        "\n",
        "The function accepts one parameter: the size/dimension of the box.\n",
        "\n",
        "Hint: a string can hold a text that spans multiple line, for instance a poem. `\\n` (newline) is the character that defines a line ending *within* a string."
      ]
    },
    {
      "cell_type": "code",
      "metadata": {
        "colab": {
          "base_uri": "https://localhost:8080/"
        },
        "id": "t4P4-X_X7AtM",
        "outputId": "1254d07a-d8d7-4e02-b777-bcbf67c9e896"
      },
      "source": [
        "def draw_box(size):\n",
        "    box = '+' + '-' * (size - 2) + '+\\n'\n",
        "    for i in range(size - 2):\n",
        "        box += '|' + ' ' * (size - 2) + '|\\n'\n",
        "    box += '+' + '-' * (size - 2) + '+\\n'\n",
        "    return box\n",
        "\n",
        "print(draw_box(4))"
      ],
      "execution_count": null,
      "outputs": [
        {
          "output_type": "stream",
          "text": [
            "+--+\n",
            "|  |\n",
            "|  |\n",
            "+--+\n",
            "\n"
          ],
          "name": "stdout"
        }
      ]
    },
    {
      "cell_type": "markdown",
      "metadata": {
        "id": "J4egRSQvBM26"
      },
      "source": [
        "REFLECTION\n",
        "\n",
        "Took me some trial and error with the +, -, | and spaces."
      ]
    },
    {
      "cell_type": "markdown",
      "metadata": {
        "id": "E_pmsrzLCmB4"
      },
      "source": [
        "9) Write a function that returns/prints a chess board of arbitrary size.\n",
        "\n",
        "*Fit for the ambitious and/or a little more experienced*\n",
        "\n",
        " * Can you do it without (unnecessary) loops and if-statements, in other words can you devise a solution that is mostly based on (smart) expressions?\n",
        " * Does you solution only work for a board with even dimensions, or does it work for odd dimensions as well?\n"
      ]
    },
    {
      "cell_type": "code",
      "metadata": {
        "colab": {
          "base_uri": "https://localhost:8080/"
        },
        "id": "fNLQJNTQXY2o",
        "outputId": "57870cf5-b530-45f0-817d-60bb88cf13c5"
      },
      "source": [
        "def chess_board(square_l, square_w, board_l, board_w):\n",
        "    pattern = ''\n",
        "    for i in range(board_l):\n",
        "        pattern += square_l*((' ' * square_w + 'X' * square_w) * board_w + '\\n')\n",
        "        pattern += square_l*(('X' * square_w + ' ' * square_w) * board_w + '\\n')\n",
        "    print(pattern)\n",
        "\n",
        "chess_board(3, 5, 4, 4)"
      ],
      "execution_count": null,
      "outputs": [
        {
          "output_type": "stream",
          "text": [
            "     XXXXX     XXXXX     XXXXX     XXXXX\n",
            "     XXXXX     XXXXX     XXXXX     XXXXX\n",
            "     XXXXX     XXXXX     XXXXX     XXXXX\n",
            "XXXXX     XXXXX     XXXXX     XXXXX     \n",
            "XXXXX     XXXXX     XXXXX     XXXXX     \n",
            "XXXXX     XXXXX     XXXXX     XXXXX     \n",
            "     XXXXX     XXXXX     XXXXX     XXXXX\n",
            "     XXXXX     XXXXX     XXXXX     XXXXX\n",
            "     XXXXX     XXXXX     XXXXX     XXXXX\n",
            "XXXXX     XXXXX     XXXXX     XXXXX     \n",
            "XXXXX     XXXXX     XXXXX     XXXXX     \n",
            "XXXXX     XXXXX     XXXXX     XXXXX     \n",
            "     XXXXX     XXXXX     XXXXX     XXXXX\n",
            "     XXXXX     XXXXX     XXXXX     XXXXX\n",
            "     XXXXX     XXXXX     XXXXX     XXXXX\n",
            "XXXXX     XXXXX     XXXXX     XXXXX     \n",
            "XXXXX     XXXXX     XXXXX     XXXXX     \n",
            "XXXXX     XXXXX     XXXXX     XXXXX     \n",
            "     XXXXX     XXXXX     XXXXX     XXXXX\n",
            "     XXXXX     XXXXX     XXXXX     XXXXX\n",
            "     XXXXX     XXXXX     XXXXX     XXXXX\n",
            "XXXXX     XXXXX     XXXXX     XXXXX     \n",
            "XXXXX     XXXXX     XXXXX     XXXXX     \n",
            "XXXXX     XXXXX     XXXXX     XXXXX     \n",
            "\n"
          ],
          "name": "stdout"
        }
      ]
    },
    {
      "cell_type": "markdown",
      "metadata": {
        "id": "YT1OUKMsijF3"
      },
      "source": [
        "REFLECTION\n",
        "\n",
        "This exercise was a headache. \n",
        "\n",
        "First I tried to pick X and ' ' alternating from a list. I completely got stuck in nested loops. Still don't know if this could be an approach. With some Google support, I came to idea to repeat the unique pattern of squares. After that I learned to play with the dimensions of a square and the board itself. Both have a lenght and a width."
      ]
    },
    {
      "cell_type": "markdown",
      "metadata": {
        "id": "AZ2sJy4gj4S0"
      },
      "source": [
        "REFLECTION 1-9\n",
        "\n",
        "These exercises took me ± 3 hours, 4 hours including breaks. The last exercise (chess board) was a pain. I forgot the time a bit, but it took me at least 90 minutes.\n",
        "\n",
        "For now I will reflect on the rest of the training material and modelling exercises (nov/dec). I will will keep below exercises for another time."
      ]
    },
    {
      "cell_type": "markdown",
      "metadata": {
        "id": "WQjDub5tCmB4"
      },
      "source": [
        "# More advanced"
      ]
    },
    {
      "cell_type": "markdown",
      "metadata": {
        "id": "VKTf49TACmB4"
      },
      "source": [
        "## Composite/compound data types"
      ]
    },
    {
      "cell_type": "markdown",
      "metadata": {
        "id": "zJqOZfajCmB4"
      },
      "source": [
        " * Study chapters 10 through 12 of the book (and any preceding chapters depending on need)"
      ]
    },
    {
      "cell_type": "markdown",
      "metadata": {
        "id": "mGk9r-MMCmB4"
      },
      "source": [
        "10) Write a function that takes a list (or tuple) of integers and returns a boolean (truth value) whether any value is smaller than `70`.\n",
        "\n",
        "*Relatively easy*\n",
        "\n",
        " * If you don't know what an integer is, please refer to sections 1.5 and 1.8 of the book.\n",
        " * Test your function on the following lists:\n",
        "    * `[89, 34, 109, 205]`\n",
        "    * `[7100, 101, 71, 2345]`\n",
        "    * `[]`\n",
        "\n",
        " * Can you write a similar function to check if there are at least two values < 70? Do you know how to solve this with just a single expression in Python?"
      ]
    },
    {
      "cell_type": "markdown",
      "metadata": {
        "id": "0cnjITdoCmB5"
      },
      "source": [
        "11) Write a function that can *flatten* a list of lists holding integers, and return the result (see example below).\n",
        "\n",
        "*Slightly harder*\n",
        "\n",
        " * Do not **google** for a solution, write one yourself. Study the book if needed.\n",
        " * If you learned the solution with outside help, wait for two days and check if you can reproduce the solution on an 'empty' screen without refering to (looking at) the solution that was given to you.\n",
        "\n",
        "For example:\n",
        "\n",
        " * Flattening `[[4, 19], [27, 5], [3], [78, 89, 3]]` should result in `[4, 19, 27, 5, 3, 78, 89, 3]`"
      ]
    },
    {
      "cell_type": "markdown",
      "metadata": {
        "id": "WvmFs-xlCmB5"
      },
      "source": [
        "12) Write a function that can flatten an arbitrary deeply nested list.\n",
        "\n",
        "*More advanced/harder, not fit for most beginners*\n",
        "\n",
        "For instance, your function should be able to flatten the following list:\n",
        "\n",
        " * `[\"Amsterdam\", [], [45, [21, 22, [True, 45.0, [\"Yoga\"]]], [3, 4]], False]`"
      ]
    },
    {
      "cell_type": "markdown",
      "metadata": {
        "id": "21boYYUCCmB5"
      },
      "source": [
        "13) Flip a dictionary: can you write a function that takes a dictionary and returns a reverse dictionary (with \"flipped\" roles for keys and values)?"
      ]
    },
    {
      "cell_type": "markdown",
      "metadata": {
        "id": "PZn42mAUCmB5"
      },
      "source": [
        "So for instance if we have the following dictionary (that translates english words into their german counterparts):\n",
        "\n",
        "```\n",
        "{'Book': 'Buch',\n",
        " 'Car': 'PKW',\n",
        " 'City': 'Stadt'}\n",
        "```\n",
        "\n",
        "your function should return:\n",
        "\n",
        "```\n",
        "{'Buch': 'Book',\n",
        " 'PKW': 'Car',\n",
        " 'Stadt': 'City'}\n",
        "```\n",
        "\n"
      ]
    },
    {
      "cell_type": "markdown",
      "metadata": {
        "id": "MLR9dIcvCmB6"
      },
      "source": [
        " * Did you use any loops (`while`, `for`, ...)?\n",
        " * Can you do without loops? If you are interested (and more advanced level), you may study *comprehensions*: https://jakevdp.github.io/WhirlwindTourOfPython/11-list-comprehensions.html"
      ]
    },
    {
      "cell_type": "markdown",
      "metadata": {
        "id": "K9tbKKNyCmB6"
      },
      "source": [
        "*Additional question: If you have a one-way dictionary, what is the benefit of creating a reverse dictionary? Write down the answer."
      ]
    },
    {
      "cell_type": "markdown",
      "metadata": {
        "id": "a0igbcZNCmB6"
      },
      "source": [
        "## String"
      ]
    },
    {
      "cell_type": "markdown",
      "metadata": {
        "id": "58SQF9mcCmB6"
      },
      "source": [
        "14) Suppose we have to replace the 5th character in every string in a list. The following code to change *one element* does not work:\n",
        "\n",
        "```\n",
        "my_text = \"Amstardam\"\n",
        "my_text[4] = \"e\"\n",
        "```\n",
        "\n",
        "Python will not let you do this directly. You can do this, but you will have to find a different solution.\n",
        "\n",
        "Write a function that can do this and operates on a (long) list with strings.\n",
        "\n",
        "Test your function on the following list: `['Amstardam', 'Abbraviate', 'abova', 'acadamia']` (Should return `['Amsterdam', 'Abbreviate', ...]`).\n",
        "\n",
        " * It might be helpful to create a \"helper\" function that works on one word first, and then use that function in another function that operates on a list. Structuring your code like this is a very good programming practice.\n",
        " * Explain why we use `[4]` to refer to the *5th* character in the string, we want the *5th* element, why do we refer to 4? The required answer is brief, but write down your answer to force yourself to formulate your answer precisely, and help internalize. Do you know any programming language(s) that would use something like `[5]` to address the fifth element? Do you find it easy to switch back and forth?"
      ]
    },
    {
      "cell_type": "markdown",
      "metadata": {
        "id": "H9B0ZrqMCmB7"
      },
      "source": [
        "## Reading a file"
      ]
    },
    {
      "cell_type": "markdown",
      "metadata": {
        "id": "W_VgsXaMCmB7"
      },
      "source": [
        "*Chapter: 9 (especially 9.1), 14*\n",
        "\n",
        "15) Get the maximum value from a csv-file.\n",
        "\n",
        "*Note: this exercise assumes familiarity with so-called **csv**-files (comma separated values). However, even if you don't know csv-files, you may be able to understand what needs to be done intuitively*\n",
        "\n",
        "Assume a file called `example.txt` that contains the following content:\n",
        "\n",
        "```\n",
        "1,testval1\n",
        "2,testval2\n",
        "3,testval3\n",
        "```\n",
        "\n",
        " * Create such a file\n",
        " * Write a small piece of code that reads the file and reports the maximum value in the first column.\n",
        " * **Do not resort to libraries such as `pandas`, `numpy`. Use the standard library only.**\n",
        " * Solution idea: treat the file as a regular text file, split the data into rows, and split the rows based on the commas into separate values. Then take the maximum.\n",
        "\n",
        "Now remove the first character from the 3rd (last) line of the data file. So the (new) file contents are now as follows:\n",
        "\n",
        "```\n",
        "1,testval1\n",
        "2,testval2\n",
        ",testval3\n",
        "```\n",
        "\n",
        "Run the code again.\n",
        "\n",
        " * Depending on your needs, your code should fail with a warning, and/or report the maximum remaining value in the file (`2`).\n",
        "\n",
        "* This exercise is inspired from the following video: https://youtu.be/D5tDubyXLrQ?t=430 (watch the segment from 7 min 10 sec until 9 min 21 sec). For the author of that video, the case described was one of the reasons to resort to an entirely different programming language (called *Go*). We could argue that you could solve this in Python as well: you can *program* in Python, you are not restricted to using Pandas, Numpy, and other libraries."
      ]
    },
    {
      "cell_type": "markdown",
      "metadata": {
        "id": "Umiysb0nCmB7"
      },
      "source": [
        "# More advanced exercises"
      ]
    },
    {
      "cell_type": "markdown",
      "metadata": {
        "id": "We8p06UjCmB7"
      },
      "source": [
        "\n",
        "16) Count the distribution of letters of the alphabet in Lewis Caroll's novel *Alice in Wonderland*, using a dictionary.\n",
        "\n",
        "Instructions:\n",
        " * Download the text from the novel: http://www.gutenberg.org/files/11/11-0.txt\n",
        "    * You can download the text with Python code (you may use the `requests` library, see [Requests documentation](https://requests.readthedocs.io/en/master/)), or\n",
        "    * You do it manually and read the text like any regular (text) file (confer to chapter 9 and 14 of the book)\n",
        " * Create a dictionary where every unique character (\"letter\") of the text is a key, and it's value should be the number of times that same character appears in the novel. So for a text like `\"Hello world\"`, the required dictionary would be: `{\"H\": 1, \"e\": 1, \"l\": 3, \"o\": 2, \" \": 1, \"w\", 1, \"r\": 1, \"d\": 1}`.\n",
        " * Apart from the optional use of `requests` (to get the book text), use the standard library only (i.e. do not use Pandas, Numpy, or any other library that you would normally have to install through `pip` or `conda`).\n",
        " * Note that the file is in `utf-8` encoding and contains a byte order mark (BOM). To decode it from Python, you can use the `utf-8-sig` encoding type. If you are not familiar with text (file) encodings, RealPython may provide help: https://realpython.com/courses/python-unicode/ and https://realpython.com/python-encodings-guide/. Time spent on learning how data is encoded, is time well-spent for any (aspiring) data scientist.\n",
        " * To check your results:"
      ]
    },
    {
      "cell_type": "markdown",
      "metadata": {
        "id": "eJN2H8CfCmB7"
      },
      "source": [
        "```\n",
        "[(' ', 27497),\n",
        " ('e', 15317),\n",
        " ('t', 11817),\n",
        " ('o', 9400),\n",
        " ('a', 9193),\n",
        " ('n', 7959),\n",
        " ('i', 7889),\n",
        " ('h', 7687),\n",
        " ('s', 7070),\n",
        " ('r', 6520)]\n",
        "```\n",
        "*Truncated to the top-10 most frequently appearing characters*"
      ]
    },
    {
      "cell_type": "markdown",
      "metadata": {
        "id": "F956Oma7CmB7"
      },
      "source": [
        " * Note that for a fairly generic solution you may need no more than 6 lines of code (statements) in Python, including fetching the text from internet, and including one line for importing the library to do this. Depending on your approach, you may need a few more lines of code. Shorter is also possible if you know the standard library very well. How many lines of code did you need in Python?\n",
        " * Do you know other languages like C, C++, Golang, Rust, or Java? How many lines of code do you need in either of these languages, without resorting to contrived or convoluted code?"
      ]
    },
    {
      "cell_type": "markdown",
      "metadata": {
        "id": "3fe-n9rnCmB8"
      },
      "source": [
        "17) Write code to find all [palindromes](https://en.wikipedia.org/wiki/Palindrome) in an English word list\n",
        "\n",
        " * You can find a wordlist here: https://raw.githubusercontent.com/dwyl/english-words/master/words.txt\n",
        " * Only consider words that fulfill (both of) the following two criteria:\n",
        "    1. having a length of 5 characters or more\n",
        "    2. consisting of only lowercase alphabetical letters (`a` through `z`)\n",
        "    \n",
        "I found a total of 61 palindromes that satisfy criteria 1 and 2 (you can write a solution in about three lines of code in Python, excluding reading the file).  \n",
        "\n",
        " * Think about a way how to split the file contents in a list of words (you may split on a newline character, or `\\n` as it is represented in a string).\n",
        " * Think about a programming language expression that determines whether a certain word is a palindrome or not. It might a an idea to write a separate function first, that takes a word and returns a boolean that reflects whether it is a palindrome. If you have succesfully written and tested that function, the rest of the exercise may be a lot easier.\n",
        " \n",
        " "
      ]
    },
    {
      "cell_type": "markdown",
      "metadata": {
        "id": "vbB6zgVVCmB8"
      },
      "source": [
        "# Harder theoretical exercise ('exam level')"
      ]
    },
    {
      "cell_type": "markdown",
      "metadata": {
        "id": "9mdy3ARjCmB8"
      },
      "source": [
        "*This will not be fit for most beginners. If you are more advanced, you might be able to write down the answer fluently, but still don't be too hard on yourself if you cannot do this straight away.*"
      ]
    },
    {
      "cell_type": "markdown",
      "metadata": {
        "id": "1h8I8kexCmB8"
      },
      "source": [
        "18) Three *questions* (a, b, and c) about working with nested data\n",
        "\n",
        "a) In the code below, on the fifth line, we reassign the third element of `b` (we set a new value for it). However, `a` seems to have changed(!?) Write down why this happened."
      ]
    },
    {
      "cell_type": "code",
      "metadata": {
        "id": "AOO9QffSCmB8",
        "outputId": "f28f3902-fe16-4896-f78b-cafec8269f9f"
      },
      "source": [
        "a = [56, 89, 103, 56]\n",
        "b = a\n",
        "print(b)\n",
        "print(a)\n",
        "b[2] = 40\n",
        "print(a)"
      ],
      "execution_count": null,
      "outputs": [
        {
          "output_type": "stream",
          "text": [
            "[56, 89, 103, 56]\n",
            "[56, 89, 103, 56]\n",
            "[56, 89, 40, 56]\n"
          ],
          "name": "stdout"
        }
      ]
    },
    {
      "cell_type": "markdown",
      "metadata": {
        "id": "c7hmo0QcCmB9"
      },
      "source": [
        "b) In the code below, on line 5, again we change the third element of `b`. However, `a` seems unharmed this time. Why is this different from `a`? Try to explain in a written answer."
      ]
    },
    {
      "cell_type": "code",
      "metadata": {
        "id": "RkluosKvCmB-",
        "outputId": "a947d0c4-38e7-4bf6-c3d6-b5530d7e6e5e"
      },
      "source": [
        "a = [56, 89, 103, 56]\n",
        "b = a[:]\n",
        "print(b)\n",
        "print(a)\n",
        "b[2] = 40\n",
        "print(a)"
      ],
      "execution_count": null,
      "outputs": [
        {
          "output_type": "stream",
          "text": [
            "[56, 89, 103, 56]\n",
            "[56, 89, 103, 56]\n",
            "[56, 89, 103, 56]\n"
          ],
          "name": "stdout"
        }
      ]
    },
    {
      "cell_type": "markdown",
      "metadata": {
        "id": "aP9tQSAcCmB-"
      },
      "source": [
        "c)\n",
        "\n",
        "**Without running** the following code (and or looking to any other source), predict the result of the following code (write down the two lines of output by hand):\n",
        "\n",
        "```\n",
        "a = [56, 89, [67, 45], 56, 90]\n",
        "b = a[:]\n",
        "b[1] = 98\n",
        "b[2][0] = 55\n",
        "print(b)\n",
        "print(a)\n",
        "```\n",
        " \n",
        " * In natural language (daily language) explain what happens in the last assignment (`b[2][0]=`...). \n",
        " * Write down the results of executing this code (the expected output).\n",
        " * Carefully  motivate your thoughts.\n",
        " * Only after you wrote down your answer (including clearly explaining the 'why'), *execute* the code in Python. Was your prediction fully correct? Were you 100% sure about your answer?\n",
        "  \n",
        "*Note that the same principles may be applicable and relevant to Pandas / DataFrames. And this applies to dictionaries as well.*\n",
        "\n",
        "Final thought: if not everything worked as you expected, what can you do to prevent this? And why does a programming language nevertheless work the way it does (what could be valid reasons for the way the computer responded to the different pieces of code)?"
      ]
    },
    {
      "cell_type": "markdown",
      "metadata": {
        "id": "4hpgd4jhCmB-"
      },
      "source": [
        "# More extensive practical exercise"
      ]
    },
    {
      "cell_type": "markdown",
      "metadata": {
        "id": "Jzqg9wWCCmB-"
      },
      "source": [
        "19) Count the total sum of all values (measurements), many throughout several files and folders.\n",
        "\n",
        " * First, execute the code below. This will generate hunderds of files spread across many folders, and simulates\n",
        "   a real-world problem: data files may not always be in a \"fixed\" location, and measurements may not always be complete or delivered as 'one file'.\n",
        " * Every *txt*-file in the folder structure, contains one integer, that represents one measurement.\n",
        "\n",
        " * Now write a function that can find and read all files in the folder and adds all numbers ('measurements') together, and will return the total sum.\n",
        " * Only use the Standard Python Library. That is, do not use `pandas`, `numpy`, or any other packages that may require a separate install.\n",
        " \n",
        "Is the result between 80,000 and 135,000 approximately?"
      ]
    },
    {
      "cell_type": "code",
      "metadata": {
        "scrolled": true,
        "id": "-BxW2gbtCmB-"
      },
      "source": [
        "\n",
        "import os\n",
        "import random\n",
        "import shutil\n",
        "\n",
        "def create_counts():\n",
        "    ROOT_FOLDER = 'stats_851175f4-5fad-4a8b-81f6-2e0ed927bba2'\n",
        "    if os.path.isdir(ROOT_FOLDER):\n",
        "        shutil.rmtree(ROOT_FOLDER)\n",
        "    os.mkdir(ROOT_FOLDER)                                        # Create a root folder called /stats\n",
        "    folders = random.sample(range(1, 501),\n",
        "                            random.randint(17,23))               # Think of about 17-23 folders to create.\n",
        "    for folder in folders:                                       # For each folder:\n",
        "        foldername = 'stats_' + str(folder)\n",
        "        os.mkdir(os.path.join(ROOT_FOLDER,\n",
        "                              foldername))                       #  - create it \n",
        "        files = random.sample(range(1, 2001),\n",
        "                              random.randint(35,45))             #  - think of between 35-45 files to create \n",
        "        for file in files:                                       #  - For each file:\n",
        "            filename = \"measurement_\" + str(file) + '.txt'\n",
        "            with open(os.path.join(ROOT_FOLDER, foldername,\n",
        "                      filename), 'w') as outfile:                #     - Create it\n",
        "                outfile.write(str(random.randint(-75, 345)))     #     - Put a number between -75 and 345 in it\n",
        "   \n",
        "create_counts()"
      ],
      "execution_count": null,
      "outputs": []
    },
    {
      "cell_type": "markdown",
      "metadata": {
        "id": "X6Cs2MGnCmB-"
      },
      "source": [
        "20) Re-generate the counts (using `create_counts()`) and run your solution to exercise #19 again. Repeat this process several times.\n",
        "\n",
        "Depending on your computer environment, the line `shutil.rmtree(ROOT_FOLDER)` may not work automatically. In that case, you may have to remove the `stats_851175f4-5fad-4a8b-81f6-2e0ed927bba2` by hand (or find a solution that works on your system).\n",
        "\n",
        " * How are the results distributed? Think of ways to demonstrate (visualise) this *distribution* in your notebook. Naturally use programming techniques to generate the results your want to show: feel free to use any charting library like matplotlib, seaborn, plotly, or any other graphical library that you seem fit.\n",
        " \n",
        " * If someone claimed that the sums are normally (Gaussian) distributed, could you provide arguments against that claim?\n",
        " \n",
        " * For exercises 19 and 20, if you need to analyse a file-set such as the one given, do you see any benefits in using programming techniques? Do you have a point-and-click alternative that allows you do to this easily, even if the filenames are different each time, non-contiguous, and in different locations? If so, describe it, and please explain it. Does it allow you to distribute your results as a notebook? A demonstration may be interesting to discuss alternative approaches."
      ]
    }
  ]
}